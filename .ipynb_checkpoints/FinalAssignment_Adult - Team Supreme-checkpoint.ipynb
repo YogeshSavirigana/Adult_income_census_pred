{
 "cells": [
  {
   "cell_type": "markdown",
   "id": "d73cacd2",
   "metadata": {},
   "source": [
    "> Supreme Team Assignment, All rights reserved\n",
    ">\n"
   ]
  },
  {
   "cell_type": "markdown",
   "id": "dace54d7-8943-4623-8914-dc998b268c3c",
   "metadata": {},
   "source": [
    "### Authored by: YOGESH SAVIRIGANA"
   ]
  },
  {
   "cell_type": "markdown",
   "id": "ae9a5256-37ff-4f94-89a8-372af85d3a0e",
   "metadata": {},
   "source": [
    "### Purpose of the Dataset"
   ]
  },
  {
   "cell_type": "markdown",
   "id": "63dc7af3-2358-404a-b81e-5e69d817a380",
   "metadata": {},
   "source": [
    "This data set is from the well-known UCI Machine Learning Repository. The objective of this notebook is to correctly forecast, based on the provided features, whether or not an adult earns more than $50,000 USD per year.\n"
   ]
  },
  {
   "cell_type": "markdown",
   "id": "7864b97f-aedc-4497-8777-c091c8405413",
   "metadata": {},
   "source": [
    "### About the Dataset"
   ]
  },
  {
   "cell_type": "markdown",
   "id": "5620ec83",
   "metadata": {},
   "source": [
    "This data set is from the well-known UCI Machine Learning Repository. The objective of this notebook is to correctly forecast, based on the provided features, whether or not an adult earns more than $50,000 USD per year.\n",
    "\n",
    "The data set selected is “Adult Census Income” attached is the link for easy reference – “https://www.kaggle.com/datasets/uciml/adult-census-income”"
   ]
  },
  {
   "cell_type": "markdown",
   "id": "c7c9881d",
   "metadata": {},
   "source": [
    "Age: Describes the age of individuals. Continuous.\n",
    "\n",
    "Workclass: Private, Self-emp-not-inc, Self-emp-inc, Federal-gov, Local-gov, State-gov, Without-pay, Never-worked.\n",
    "\n",
    "fnlwgt: Continuous.\n",
    "\n",
    "education: Bachelors, Some-college, 11th, HS-grad, Prof-school, Assoc-acdm, Assoc-voc, 9th, 7th-8th, 12th, Masters, 1st-4th, 10th, Doctorate, 5th-6th, Preschool. education-num: Number of years spent in education. Continuous.\n",
    "\n",
    "marital-status: Married-civ-spouse, Divorced, Never-married, Separated, Widowed, Married-spouse-absent, Married-AF-spouse.\n",
    "\n",
    "occupation: Tech-support, Craft-repair, Other-service, Sales, Exec-managerial, Prof-specialty, Handlers-cleaners, Machine-op-inspct, Adm-clerical, Farming-fishing, Transport-moving, Priv-house-serv, Protective-serv, Armed-Forces. relationship: Wife, Own-child, Husband, Not-in-family, Other-relative, Unmarried.\n",
    "\n",
    "race: White, Asian-Pac-Islander, Amer-Indian-Eskimo, Other, Black.\n",
    "\n",
    "sex: Female, Male.\n",
    "\n",
    "capital-gain: Continuous.\n",
    "\n",
    "capital-loss: Continuous.\n",
    "\n",
    "hours-per-week: Continuous.\n",
    "\n",
    "native-country: United-States, Cambodia, England, Puerto-Rico, Canada, Germany, Outlying-US(Guam-USVI-etc), India, Japan, Greece, South, China, Cuba, Iran, Honduras, Philippines, Italy, Poland, Jamaica, Vietnam, Mexico, Portugal, Ireland, France, Dominican-Republic, Laos, Ecuador, Taiwan, Haiti, Columbia, Hungary, Guatemala, Nicaragua, Scotland, Thailand, Yugoslavia, El-Salvador, Trinadad&Tobago, Peru, Hong, Holand-Netherlands.\n",
    "\n",
    "salary: >50K,<=50K"
   ]
  },
  {
   "cell_type": "markdown",
   "id": "e273ca7f",
   "metadata": {},
   "source": [
    "### Step1: Import all required libraries"
   ]
  },
  {
   "cell_type": "code",
   "execution_count": 1,
   "id": "b4cbcaca",
   "metadata": {},
   "outputs": [],
   "source": [
    "import pandas as pd\n",
    "from sklearn import *\n",
    "from sklearn.model_selection import train_test_split\n",
    "from sklearn import preprocessing \n",
    "import numpy as np\n",
    "from sklearn.neighbors import KNeighborsClassifier\n",
    "from sklearn.metrics import confusion_matrix\n",
    "from sklearn.utils import resample\n",
    "from sklearn.preprocessing import OrdinalEncoder\n",
    "from sklearn.preprocessing import LabelEncoder\n",
    "from sklearn.tree import DecisionTreeClassifier\n",
    "from sklearn.metrics import confusion_matrix, accuracy_score, precision_score, recall_score\n",
    "from sklearn.metrics import f1_score\n",
    "import seaborn as sns\n",
    "\n",
    "np.random.seed(1)\n",
    "\n",
    "\n",
    "\n",
    "import pandas as pd\n",
    "import numpy as np\n",
    "import matplotlib.pyplot as plt\n",
    "\n",
    "from sklearn.tree import DecisionTreeClassifier, DecisionTreeRegressor\n",
    "from sklearn.neighbors import KNeighborsClassifier\n",
    "\n",
    "#from sklearn.ensemble import RandomForestClassifier, GradientBoostingClassifier\n",
    "\n",
    "from sklearn import preprocessing \n",
    "from sklearn.metrics import accuracy_score, precision_score, recall_score, f1_score, classification_report\n",
    "from sklearn.tree import plot_tree\n",
    "\n",
    "from sklearn.model_selection import train_test_split, cross_val_score, GridSearchCV"
   ]
  },
  {
   "cell_type": "markdown",
   "id": "994eebeb",
   "metadata": {},
   "source": [
    "### Step2: Load the data, clean and prepare data for analysis"
   ]
  },
  {
   "cell_type": "code",
   "execution_count": 2,
   "id": "3c278779",
   "metadata": {},
   "outputs": [
    {
     "ename": "SyntaxError",
     "evalue": "(unicode error) 'unicodeescape' codec can't decode bytes in position 2-3: truncated \\UXXXXXXXX escape (2476899108.py, line 1)",
     "output_type": "error",
     "traceback": [
      "\u001b[1;36m  Input \u001b[1;32mIn [2]\u001b[1;36m\u001b[0m\n\u001b[1;33m    adult_df = pd.read_csv(\"C:\\Users\\yoges\\OneDrive\\Documents\\Sem 1\\ISM6163 - DM\\project\\Proj1\\adult.csv\") # change this path depending on where you store the file on your computer\u001b[0m\n\u001b[1;37m                                                                                                         ^\u001b[0m\n\u001b[1;31mSyntaxError\u001b[0m\u001b[1;31m:\u001b[0m (unicode error) 'unicodeescape' codec can't decode bytes in position 2-3: truncated \\UXXXXXXXX escape\n"
     ]
    }
   ],
   "source": [
    "adult_df = pd.read_csv(\"C:\\Users\\yoges\\OneDrive\\Documents\\Sem 1\\ISM6163 - DM\\project\\Proj1\\adult.csv\") # change this path depending on where you store the file on your computer"
   ]
  },
  {
   "cell_type": "code",
   "execution_count": null,
   "id": "46148eb0",
   "metadata": {},
   "outputs": [],
   "source": [
    "adult_df.head(5)"
   ]
  },
  {
   "cell_type": "code",
   "execution_count": null,
   "id": "b6af33e7",
   "metadata": {},
   "outputs": [],
   "source": [
    "adult_df.shape"
   ]
  },
  {
   "cell_type": "markdown",
   "id": "ccbb5cf1-27d0-4cf0-95b3-2c5d34fe7bf3",
   "metadata": {},
   "source": [
    "Checking the number of rows and columns in the data set selected"
   ]
  },
  {
   "cell_type": "code",
   "execution_count": null,
   "id": "86c3ba97",
   "metadata": {},
   "outputs": [],
   "source": [
    "adult_df.describe()"
   ]
  },
  {
   "cell_type": "markdown",
   "id": "34fd6c4f",
   "metadata": {},
   "source": [
    "Check column names, and for our convenience, let's remove whitespaces and '.' if any..."
   ]
  },
  {
   "cell_type": "code",
   "execution_count": null,
   "id": "9f4370c0",
   "metadata": {},
   "outputs": [],
   "source": [
    "adult_df.columns"
   ]
  },
  {
   "cell_type": "markdown",
   "id": "12f65b6b",
   "metadata": {},
   "source": [
    "### Step3: Clean up Column names - Removing whitespaces and '.' and replacing it with '_' and converting them to uppercase headers in all columns"
   ]
  },
  {
   "cell_type": "code",
   "execution_count": null,
   "id": "9c184674",
   "metadata": {},
   "outputs": [],
   "source": [
    "adult_df.columns = [s.strip().upper().replace('.', '_') for s in adult_df.columns] \n",
    "adult_df.columns = [s.strip().upper().replace(' ', '_') for s in adult_df.columns] "
   ]
  },
  {
   "cell_type": "code",
   "execution_count": null,
   "id": "d58b8748",
   "metadata": {},
   "outputs": [],
   "source": [
    "adult_df.columns"
   ]
  },
  {
   "cell_type": "markdown",
   "id": "7fe84fd1",
   "metadata": {},
   "source": [
    "#### Exploring the datatypes of all the variables"
   ]
  },
  {
   "cell_type": "code",
   "execution_count": null,
   "id": "1b75cf99",
   "metadata": {},
   "outputs": [],
   "source": [
    "adult_df.dtypes"
   ]
  },
  {
   "cell_type": "markdown",
   "id": "2677dc46",
   "metadata": {},
   "source": [
    "#### We are now replacing all the 'object' datatypes to 'category' datatypes by converting them to categorical datatypes"
   ]
  },
  {
   "cell_type": "code",
   "execution_count": null,
   "id": "32250129",
   "metadata": {},
   "outputs": [],
   "source": [
    "adult_df.WORKCLASS = adult_df.WORKCLASS.astype('category')\n",
    "adult_df.EDUCATION = adult_df.EDUCATION.astype('category')\n",
    "adult_df.MARITAL_STATUS = adult_df.MARITAL_STATUS.astype('category')\n",
    "adult_df.OCCUPATION = adult_df.OCCUPATION.astype('category')\n",
    "adult_df.RELATIONSHIP = adult_df.RELATIONSHIP.astype('category')\n",
    "adult_df.RACE = adult_df.RACE.astype('category')\n",
    "adult_df.SEX = adult_df.SEX.astype('category')\n",
    "adult_df.NATIVE_COUNTRY = adult_df.NATIVE_COUNTRY.astype('category')\n",
    "adult_df.INCOME = adult_df.INCOME.astype('category')"
   ]
  },
  {
   "cell_type": "markdown",
   "id": "969b7a14",
   "metadata": {},
   "source": [
    "#### Now we have converted all our 'object' datatypes to 'categorical' datatypes"
   ]
  },
  {
   "cell_type": "code",
   "execution_count": null,
   "id": "09b361ce",
   "metadata": {},
   "outputs": [],
   "source": [
    "adult_df.dtypes"
   ]
  },
  {
   "cell_type": "markdown",
   "id": "ab4c3b30",
   "metadata": {},
   "source": [
    "### check for missing values"
   ]
  },
  {
   "cell_type": "code",
   "execution_count": null,
   "id": "a37cd64e",
   "metadata": {},
   "outputs": [],
   "source": [
    "adult_df.isnull().sum()"
   ]
  },
  {
   "cell_type": "markdown",
   "id": "1c89a1ed",
   "metadata": {},
   "source": [
    "#### Exploring All unique values of all the categorical variables using **unique()** "
   ]
  },
  {
   "cell_type": "code",
   "execution_count": null,
   "id": "b34601f5",
   "metadata": {},
   "outputs": [],
   "source": [
    "print(adult_df['WORKCLASS'].unique())\n",
    "print('---------------------------------------------------------------------------------------------------------------------------')\n",
    "print(adult_df['EDUCATION'].unique())\n",
    "print('---------------------------------------------------------------------------------------------------------------------------')\n",
    "print(adult_df['MARITAL_STATUS'].unique())\n",
    "print('---------------------------------------------------------------------------------------------------------------------------')\n",
    "print(adult_df['OCCUPATION'].unique())\n",
    "print('---------------------------------------------------------------------------------------------------------------------------')\n",
    "print(adult_df['RELATIONSHIP'].unique())\n",
    "print('---------------------------------------------------------------------------------------------------------------------------')\n",
    "print(adult_df['RACE'].unique())\n",
    "print('---------------------------------------------------------------------------------------------------------------------------')\n",
    "print(adult_df['SEX'].unique())\n",
    "print('---------------------------------------------------------------------------------------------------------------------------')\n",
    "print(adult_df['NATIVE_COUNTRY'].unique())\n",
    "print('---------------------------------------------------------------------------------------------------------------------------')\n",
    "print(adult_df['INCOME'].unique())"
   ]
  },
  {
   "cell_type": "markdown",
   "id": "f41ae7fa",
   "metadata": {},
   "source": [
    "#### We can clearly observe that some of the categorical variables (like 'WORKCLASS','NATIVE COUNTRY' and 'OCCUPATION' have '?' as unique value, which is replaced by value 'NaN' "
   ]
  },
  {
   "cell_type": "code",
   "execution_count": null,
   "id": "b150d867",
   "metadata": {},
   "outputs": [],
   "source": [
    "adult_df=adult_df.replace({'?': np.nan})\n",
    "adult_df=adult_df.replace({' ': np.nan})"
   ]
  },
  {
   "cell_type": "markdown",
   "id": "514617b9",
   "metadata": {},
   "source": [
    "#### Checking whether all the '?' values are replaced with NaN values"
   ]
  },
  {
   "cell_type": "code",
   "execution_count": null,
   "id": "f1722cb8",
   "metadata": {},
   "outputs": [],
   "source": [
    "print(adult_df['WORKCLASS'].unique())\n",
    "print('--------------------------------------------------------------------------')\n",
    "print(adult_df['OCCUPATION'].unique())\n",
    "print('--------------------------------------------------------------------------')\n",
    "print(adult_df['NATIVE_COUNTRY'].unique())"
   ]
  },
  {
   "cell_type": "code",
   "execution_count": null,
   "id": "3ddc59d1",
   "metadata": {},
   "outputs": [],
   "source": [
    "adult_df.isnull().sum()"
   ]
  },
  {
   "cell_type": "markdown",
   "id": "cae8aaad",
   "metadata": {},
   "source": [
    "#### Filling NaN values in 'WORKCLASS' variable with Most repeated element (MODE)"
   ]
  },
  {
   "cell_type": "code",
   "execution_count": null,
   "id": "4cc48a9c",
   "metadata": {},
   "outputs": [],
   "source": [
    "adult_df['WORKCLASS'].describe()"
   ]
  },
  {
   "cell_type": "code",
   "execution_count": null,
   "id": "c0e963a5",
   "metadata": {},
   "outputs": [],
   "source": [
    "adult_df['WORKCLASS'] = adult_df['WORKCLASS'].fillna('Private')"
   ]
  },
  {
   "cell_type": "markdown",
   "id": "5207e3c0",
   "metadata": {},
   "source": [
    "#### Filling NaN values in 'OCCUPATION' variable with Most repeated element (MODE)"
   ]
  },
  {
   "cell_type": "code",
   "execution_count": null,
   "id": "e04e2cb9",
   "metadata": {},
   "outputs": [],
   "source": [
    "adult_df['OCCUPATION'].describe()"
   ]
  },
  {
   "cell_type": "code",
   "execution_count": null,
   "id": "5aa49f41",
   "metadata": {},
   "outputs": [],
   "source": [
    "adult_df['OCCUPATION'] = adult_df['OCCUPATION'].fillna('Prof-specialty')"
   ]
  },
  {
   "cell_type": "markdown",
   "id": "a65d8d6b",
   "metadata": {},
   "source": [
    "#### Filling NaN values in 'NATIVE_COUNTRY' variable with Most repeated element (MODE)"
   ]
  },
  {
   "cell_type": "code",
   "execution_count": null,
   "id": "1dfb7260",
   "metadata": {},
   "outputs": [],
   "source": [
    "adult_df.NATIVE_COUNTRY.describe()"
   ]
  },
  {
   "cell_type": "code",
   "execution_count": null,
   "id": "8cebe588",
   "metadata": {},
   "outputs": [],
   "source": [
    "adult_df['NATIVE_COUNTRY'] = adult_df['NATIVE_COUNTRY'].fillna('United-States')"
   ]
  },
  {
   "cell_type": "code",
   "execution_count": null,
   "id": "317b0438",
   "metadata": {},
   "outputs": [],
   "source": [
    "adult_df.isnull().sum()"
   ]
  },
  {
   "cell_type": "markdown",
   "id": "64f48d67",
   "metadata": {},
   "source": [
    "# Exploring Categorical Variables"
   ]
  },
  {
   "cell_type": "markdown",
   "id": "e8481027",
   "metadata": {},
   "source": [
    "**BAR PLOT FOR WORKCLASS**\n",
    "\n",
    "Most of the adults prefer to work Private Organizations than working for any government or being self employed"
   ]
  },
  {
   "cell_type": "code",
   "execution_count": null,
   "id": "6feeb09f",
   "metadata": {},
   "outputs": [],
   "source": [
    "adult_df.WORKCLASS.value_counts().sort_index(ascending=False).plot(kind='barh')"
   ]
  },
  {
   "cell_type": "markdown",
   "id": "59758e1f",
   "metadata": {},
   "source": [
    "**BAR PLOT FOR EDUCATION**\n",
    "\n",
    "Most of the adults have completed their High school graduation "
   ]
  },
  {
   "cell_type": "code",
   "execution_count": null,
   "id": "74381e6a",
   "metadata": {},
   "outputs": [],
   "source": [
    "adult_df.EDUCATION.value_counts().sort_index(ascending=False).plot(kind='barh')"
   ]
  },
  {
   "cell_type": "markdown",
   "id": "6ec2a16d",
   "metadata": {},
   "source": [
    "**BAR PLOT FOR MARITAL STATUS**\n",
    "\n",
    "Most of the adults are Married, followed by never married and divorced"
   ]
  },
  {
   "cell_type": "code",
   "execution_count": null,
   "id": "ab70a9dd",
   "metadata": {},
   "outputs": [],
   "source": [
    "adult_df.MARITAL_STATUS.value_counts().sort_index(ascending=False).plot(kind='barh')"
   ]
  },
  {
   "cell_type": "markdown",
   "id": "ee07c5e4",
   "metadata": {},
   "source": [
    "**BAR PLOT FOR OCCUPATION**\n",
    "\n",
    "Most of the adults occupation belong to Prof-Speciality group like (Engineers,Technologists,Therapits,Educators etc)."
   ]
  },
  {
   "cell_type": "code",
   "execution_count": null,
   "id": "40ec363e",
   "metadata": {},
   "outputs": [],
   "source": [
    "adult_df.OCCUPATION.value_counts().sort_index(ascending=False).plot(kind='barh')"
   ]
  },
  {
   "cell_type": "markdown",
   "id": "8656a472",
   "metadata": {},
   "source": [
    "**BAR PLOT FOR RELATIONSHIP**\n",
    "\n",
    "Most of the adults are Husband"
   ]
  },
  {
   "cell_type": "code",
   "execution_count": null,
   "id": "31e23aaf",
   "metadata": {},
   "outputs": [],
   "source": [
    "adult_df.RELATIONSHIP.value_counts().sort_index(ascending=False).plot(kind='barh')"
   ]
  },
  {
   "cell_type": "markdown",
   "id": "d85ecf24",
   "metadata": {},
   "source": [
    "**BAR PLOT FOR RACE**\n",
    "\n",
    "Most of the adults belong to White Race"
   ]
  },
  {
   "cell_type": "code",
   "execution_count": null,
   "id": "1350ff10",
   "metadata": {},
   "outputs": [],
   "source": [
    "adult_df.RACE.value_counts().sort_index(ascending=False).plot(kind='barh')"
   ]
  },
  {
   "cell_type": "markdown",
   "id": "834bfe7b",
   "metadata": {},
   "source": [
    "**BAR PLOT FOR SEX**\n",
    "\n",
    "Most of the adults are Male"
   ]
  },
  {
   "cell_type": "code",
   "execution_count": null,
   "id": "f82868b8",
   "metadata": {},
   "outputs": [],
   "source": [
    "adult_df.SEX.value_counts().sort_index(ascending=False).plot(kind='barh')"
   ]
  },
  {
   "cell_type": "markdown",
   "id": "23d43287",
   "metadata": {},
   "source": [
    "**BAR PLOT FOR INCOME**\n",
    "\n",
    "Most of the adults earn income <=50K$"
   ]
  },
  {
   "cell_type": "code",
   "execution_count": null,
   "id": "05706536",
   "metadata": {},
   "outputs": [],
   "source": [
    "adult_df.INCOME.value_counts().sort_index(ascending=False).plot(kind='barh')"
   ]
  },
  {
   "cell_type": "markdown",
   "id": "c26447f3",
   "metadata": {},
   "source": [
    "## Label Encoding"
   ]
  },
  {
   "cell_type": "code",
   "execution_count": null,
   "id": "8589329a",
   "metadata": {},
   "outputs": [],
   "source": [
    "from sklearn.preprocessing import LabelEncoder"
   ]
  },
  {
   "cell_type": "markdown",
   "id": "f1d8c9f2",
   "metadata": {},
   "source": [
    "### Applying Label encoding to multiple columns "
   ]
  },
  {
   "cell_type": "code",
   "execution_count": null,
   "id": "22adb38c",
   "metadata": {},
   "outputs": [],
   "source": [
    "categ = ['WORKCLASS','EDUCATION','MARITAL_STATUS', 'OCCUPATION', 'RELATIONSHIP', 'RACE', 'SEX','NATIVE_COUNTRY','INCOME']\n",
    "\n",
    "# Encode Categorical Columns\n",
    "enc = LabelEncoder()\n",
    "adult_df[categ] = adult_df[categ].apply(enc.fit_transform)"
   ]
  },
  {
   "cell_type": "code",
   "execution_count": null,
   "id": "9aca6647",
   "metadata": {},
   "outputs": [],
   "source": [
    "adult_df.head(10)"
   ]
  },
  {
   "cell_type": "markdown",
   "id": "fc1cd0f8",
   "metadata": {},
   "source": [
    "## Addressing Data Imbalance"
   ]
  },
  {
   "cell_type": "code",
   "execution_count": null,
   "id": "68496146",
   "metadata": {},
   "outputs": [],
   "source": [
    "adult_df['INCOME'].value_counts()"
   ]
  },
  {
   "cell_type": "code",
   "execution_count": null,
   "id": "b0b18f5b",
   "metadata": {},
   "outputs": [],
   "source": [
    "class_0 = adult_df[adult_df['INCOME']==0]\n",
    "class_1 = adult_df[adult_df['INCOME']==1]"
   ]
  },
  {
   "cell_type": "code",
   "execution_count": null,
   "id": "3c2116ac",
   "metadata": {},
   "outputs": [],
   "source": [
    "print(class_0.shape,class_1.shape)"
   ]
  },
  {
   "cell_type": "markdown",
   "id": "2e69a627",
   "metadata": {},
   "source": [
    "### Oversampling"
   ]
  },
  {
   "cell_type": "markdown",
   "id": "b07c6dd6",
   "metadata": {},
   "source": [
    "In oversampling, minority class is oversampled at random or duplicate examples are added from the minority class (class1) inorder to match the majority class (class0)\n",
    "\n",
    "Here the data points are selected randomly with replacement.\n",
    "\n",
    "Now, we will be applying oversampling technique - one of the method to handle data imbalance in the data."
   ]
  },
  {
   "cell_type": "markdown",
   "id": "174df383",
   "metadata": {},
   "source": [
    "### Why to apply oversampling technique to our data ?"
   ]
  },
  {
   "cell_type": "markdown",
   "id": "cfe5c2f8",
   "metadata": {},
   "source": [
    "The ability of algorithm/model is always constrained by its ability to predict rare points.So in our problem, rare points are the class1 (where adult salary is >50K$).So we will be resampling the minority class1 datapoints to balance with the majority class(class0)."
   ]
  },
  {
   "cell_type": "markdown",
   "id": "ff3a2dfc",
   "metadata": {},
   "source": [
    "#### oversampling the minority data (class-1) to get more samples and make both class1 and class0 balanced"
   ]
  },
  {
   "cell_type": "code",
   "execution_count": null,
   "id": "f2e74986",
   "metadata": {},
   "outputs": [],
   "source": [
    "from sklearn.utils import resample"
   ]
  },
  {
   "cell_type": "code",
   "execution_count": null,
   "id": "1bec2d20",
   "metadata": {},
   "outputs": [],
   "source": [
    "df_minority_upsampled = resample(class_1, \n",
    "                                 replace=True,     # sample with replacement\n",
    "                                 n_samples=24720,    # to match majority class\n",
    "                                 random_state=123) # reproducible results"
   ]
  },
  {
   "cell_type": "markdown",
   "id": "8d6d5912",
   "metadata": {},
   "source": [
    "After performing oversampling, we can now confirm from below that both class1 and class0 have same dimensions."
   ]
  },
  {
   "cell_type": "code",
   "execution_count": null,
   "id": "ea7bcea3",
   "metadata": {},
   "outputs": [],
   "source": [
    "print(class_0.shape,df_minority_upsampled.shape)"
   ]
  },
  {
   "cell_type": "markdown",
   "id": "7b2f1d61-8e3e-43eb-852a-42c5be6b22e4",
   "metadata": {},
   "source": [
    "Here majority class has has 24720 rows in total and minority has 7841 rows"
   ]
  },
  {
   "cell_type": "markdown",
   "id": "00355cae",
   "metadata": {},
   "source": [
    "**Concatinating both Classes using concat()**"
   ]
  },
  {
   "cell_type": "code",
   "execution_count": null,
   "id": "b432d555",
   "metadata": {},
   "outputs": [],
   "source": [
    "final_df = pd.concat([class_0,df_minority_upsampled])"
   ]
  },
  {
   "cell_type": "code",
   "execution_count": null,
   "id": "f740cc70",
   "metadata": {},
   "outputs": [],
   "source": [
    "print(final_df.shape)"
   ]
  },
  {
   "cell_type": "markdown",
   "id": "f7572783",
   "metadata": {},
   "source": [
    "#### Checking the correlation among all the variables wrt 'INCOME' variable which is our Target"
   ]
  },
  {
   "cell_type": "markdown",
   "id": "d797821c",
   "metadata": {},
   "source": [
    "We can observe that variables - WORKCLASS,FNLWGT,NATIVE_CLASS have least correlation almost equal to zero, hence these 3 variables can be removed in our further modelling"
   ]
  },
  {
   "cell_type": "code",
   "execution_count": null,
   "id": "a8acb0c2",
   "metadata": {},
   "outputs": [],
   "source": [
    "final_df.corr()"
   ]
  },
  {
   "cell_type": "markdown",
   "id": "23f5fcd7",
   "metadata": {},
   "source": [
    "### Step5: Split Data"
   ]
  },
  {
   "cell_type": "markdown",
   "id": "d987e6c5",
   "metadata": {},
   "source": [
    "Split data into a 70/30 split."
   ]
  },
  {
   "cell_type": "code",
   "execution_count": null,
   "id": "94416e1d",
   "metadata": {},
   "outputs": [],
   "source": [
    "train_df, validation_df = train_test_split(final_df, test_size=0.3, random_state=1)"
   ]
  },
  {
   "cell_type": "code",
   "execution_count": null,
   "id": "b2d18b46",
   "metadata": {},
   "outputs": [],
   "source": [
    "train_df.head(3)"
   ]
  },
  {
   "cell_type": "code",
   "execution_count": null,
   "id": "70a380ca",
   "metadata": {},
   "outputs": [],
   "source": [
    "validation_df.head(2)"
   ]
  },
  {
   "cell_type": "markdown",
   "id": "78091091",
   "metadata": {},
   "source": [
    "### Transform Predictors¶"
   ]
  },
  {
   "cell_type": "markdown",
   "id": "ffc8df1b",
   "metadata": {},
   "source": [
    "K-nn models are sensitive to differences in scale; therefore, we should begin by eliminating any differences in scale between the predictors/features. To accomplish this, we will standardize the values of each variable.\n",
    "\n",
    "We will use the popular sklearn library's 'standard scaler' to accomplish this. This library contains many of the common functions we require when conducting analytics. The standard scaler function will standardize our variables. To achieve this, we will first need to train the scaler on the training data and then apply this trained scaler to standardize both the training and validation sets."
   ]
  },
  {
   "cell_type": "code",
   "execution_count": null,
   "id": "f2afd888",
   "metadata": {},
   "outputs": [],
   "source": [
    "target = 'INCOME'\n",
    "predictors = ['AGE','EDUCATION','EDUCATION_NUM','MARITAL_STATUS','OCCUPATION','RELATIONSHIP','RACE','SEX','CAPITAL_GAIN','CAPITAL_LOSS','HOURS_PER_WEEK']\n",
    "\n",
    "predictors = list(final_df.columns)\n",
    "predictors.remove(target)\n",
    "\n",
    "# create a standard scaler and fit it to the training set of predictors\n",
    "scaler = preprocessing.StandardScaler()\n",
    "scaler.fit(train_df[predictors])\n",
    "\n",
    "# Transform the predictors of training and validation sets\n",
    "train_predictors = scaler.transform(train_df[predictors]) # train_predictors is not a numpy array\n",
    "train_target = train_df[target] # train_target is now a series object\n",
    "\n",
    "validation_predictors = scaler.transform(validation_df[predictors]) # validation_target is now a series object\n",
    "validation_target = validation_df[target] # validation_target is now a series object\n",
    "\n",
    "print(validation_predictors)"
   ]
  },
  {
   "cell_type": "markdown",
   "id": "d702548e",
   "metadata": {},
   "source": [
    "Let's now explore the results of the standardization"
   ]
  },
  {
   "cell_type": "code",
   "execution_count": null,
   "id": "a0fc1476",
   "metadata": {},
   "outputs": [],
   "source": [
    "import numpy as np\n",
    "\n",
    "print(train_predictors[:5], end=\"\\n\\n\")\n",
    "print(np.array(train_target[:5]), end=\"\\n\\n\")\n",
    "print(validation_predictors[:5], end=\"\\n\\n\")\n",
    "print(np.array(validation_target[:5]), end=\"\\n\\n\")"
   ]
  },
  {
   "cell_type": "markdown",
   "id": "801b277a",
   "metadata": {},
   "source": [
    "### Step6: Train a K-NN model"
   ]
  },
  {
   "cell_type": "markdown",
   "id": "a3c46af7",
   "metadata": {},
   "source": [
    "To determine a k value we need to perform square root of the total observations. Since there are 32561 observations, following this rule of thumb, we would select a k value of 180 (but it's best to choose an odd number so that we will use k=181)."
   ]
  },
  {
   "cell_type": "code",
   "execution_count": null,
   "id": "db27c14c",
   "metadata": {},
   "outputs": [],
   "source": [
    "knn = KNeighborsClassifier(n_neighbors=181,  metric='euclidean') # user euclidean distance\n",
    "knn.fit(train_predictors, train_target)\n",
    "knn_prediction_output = knn.predict(validation_predictors)\n",
    "knn_prediction_output[:100]"
   ]
  },
  {
   "cell_type": "code",
   "execution_count": null,
   "id": "23828a45",
   "metadata": {},
   "outputs": [],
   "source": [
    "knn_predict_proba_output = knn.predict_proba(validation_predictors)\n",
    "knn_predict_proba_output[:100, 1].round(2)"
   ]
  },
  {
   "cell_type": "markdown",
   "id": "e24f8e76",
   "metadata": {},
   "source": [
    "### Measure performance of model using confusion matrix"
   ]
  },
  {
   "cell_type": "code",
   "execution_count": null,
   "id": "3782d1f4",
   "metadata": {},
   "outputs": [],
   "source": [
    "confusion = confusion_matrix(validation_target, knn_prediction_output)"
   ]
  },
  {
   "cell_type": "code",
   "execution_count": null,
   "id": "47b72396",
   "metadata": {},
   "outputs": [],
   "source": [
    "confusion"
   ]
  },
  {
   "cell_type": "markdown",
   "id": "e45f2c74-f173-4e94-9e99-2a53c3eaecc3",
   "metadata": {},
   "source": [
    "**TRUE POSITIVE:** Adults whose salary>50K and model actually predicted as salary>50K$ ie 6289\n",
    "\n",
    "**TRUE NEGATIVE:** Adults whose salary>50K but model not predicted as salary>50K$ ie 5548\n",
    "\n",
    "**FALSE POSITIVE:** Adults whose salary is not greater than 50K and model actually predicted as salary>50K$ ie 1968\n",
    "\n",
    "**FALSE NEGATIVE:** Adults whose salary>50K and model actually predicted as not-greater than 50k$ ie 1027"
   ]
  },
  {
   "cell_type": "code",
   "execution_count": null,
   "id": "e72db82d",
   "metadata": {},
   "outputs": [],
   "source": [
    "TP = confusion[1, 1] # True Positives \n",
    "TN = confusion[0, 0] # True Negatives\n",
    "FP = confusion[0, 1] # False Positives \n",
    "FN = confusion[1, 0] # False Negatives"
   ]
  },
  {
   "cell_type": "code",
   "execution_count": null,
   "id": "79b921a4",
   "metadata": {},
   "outputs": [],
   "source": [
    "classification_accuracy = (TP + TN) / (TP + TN + FP + FN)\n",
    "print(f\"{classification_accuracy:.4f}\")"
   ]
  },
  {
   "cell_type": "markdown",
   "id": "2f637a75-b48a-4698-9fd9-beba6654b6b3",
   "metadata": {},
   "source": [
    "The model that we have created has a correctness/accuracy of 79.81 % which seems to be a good fit."
   ]
  },
  {
   "cell_type": "code",
   "execution_count": null,
   "id": "32702233",
   "metadata": {},
   "outputs": [],
   "source": [
    "classification_error = (FP + FN) / (TP + TN + FP + FN)\n",
    "# this is the same as ...\n",
    "# classification_error = 1-classification_accuracy\n",
    "\n",
    "print(f\"{classification_error:.4f}\")"
   ]
  },
  {
   "cell_type": "markdown",
   "id": "3707b30f-044c-40eb-8515-79c659895887",
   "metadata": {},
   "source": [
    "The KNN model which we have created generates a random error of 20.19%."
   ]
  },
  {
   "cell_type": "code",
   "execution_count": null,
   "id": "0a4f52b8",
   "metadata": {},
   "outputs": [],
   "source": [
    "precision = TP / (TP + FP)\n",
    "print(f\"{precision:.4f}\")"
   ]
  },
  {
   "cell_type": "markdown",
   "id": "db326158-7e8d-460e-93d6-1ea8caef25fd",
   "metadata": {},
   "source": [
    "This model has a 76.17% precision when predicting class 1 ( Adults whose sal earnings > 50K$"
   ]
  },
  {
   "cell_type": "code",
   "execution_count": null,
   "id": "d6d64795",
   "metadata": {},
   "outputs": [],
   "source": [
    "recall = TP / (TP + FN)\n",
    "print(f\"{recall:.4f}\")"
   ]
  },
  {
   "cell_type": "markdown",
   "id": "17644b6c-5513-422d-82f1-01c3d73ff4d8",
   "metadata": {},
   "source": [
    "The recall value of this model is 0.8596 which tells us that it has great ability of a classification model to identify all relevant instances.  "
   ]
  },
  {
   "cell_type": "code",
   "execution_count": null,
   "id": "c20af246",
   "metadata": {},
   "outputs": [],
   "source": [
    "f1_Score = (2 * precision * recall) / (precision + recall)\n",
    "print(f\"{f1_Score:.4f}\")"
   ]
  },
  {
   "cell_type": "markdown",
   "id": "cff7c4a4-3613-48b8-9aa9-758fe376c306",
   "metadata": {},
   "source": [
    "The F1 score is defined as weighted average of both precision and recall. how accurate our model is by measuring the harmonic mean of Precision and Recall.\n",
    "Based on the above F1 score of 80.77%,"
   ]
  },
  {
   "cell_type": "markdown",
   "id": "a4d36dce",
   "metadata": {},
   "source": [
    "#### At k=3, we get max accuracy and recall values. So we choose k=3 as best k value for our KNN model"
   ]
  },
  {
   "cell_type": "code",
   "execution_count": null,
   "id": "675e9ed2",
   "metadata": {},
   "outputs": [],
   "source": [
    "for i in range(1,21,2):\n",
    "    knn = KNeighborsClassifier(n_neighbors=i,  metric='euclidean')\n",
    "    knn.fit(train_predictors, train_target)\n",
    "    knn_prediction_output = knn.predict(validation_predictors)\n",
    "    accuracy = accuracy_score(validation_target,knn_prediction_output) * float(100)\n",
    "    f1score = f1_score(validation_target,knn_prediction_output) * float(100)\n",
    "    print('\\n Accuracy for k = %d is %d %%' %(i,accuracy))\n",
    "    print('\\n F1 Score for k = %d is %d %%' %(i,f1score))\n",
    "    print('-------------------------------------------------------------------------------------------------')"
   ]
  },
  {
   "cell_type": "markdown",
   "id": "7c45572c-f42e-48a7-8c21-4eae008c3b39",
   "metadata": {},
   "source": [
    "### Step7: Hyperparamater Tuning with k-NN"
   ]
  },
  {
   "cell_type": "markdown",
   "id": "34d199ab-6417-4764-8bcd-31c48d866581",
   "metadata": {},
   "source": [
    "Hyper parameter tuning is not limited to decision trees, we can apply it to k-NN modeling technqiue for which we'd like to explore different parameter values and the resulting performance of the model with these parameters."
   ]
  },
  {
   "cell_type": "markdown",
   "id": "943ff6f0-0cc8-414c-aa9a-874d9da152e9",
   "metadata": {},
   "source": [
    "Let's check the performance of a few k-NN values manually."
   ]
  },
  {
   "cell_type": "code",
   "execution_count": null,
   "id": "20863755-8209-48d7-b6c0-e1285deee0be",
   "metadata": {},
   "outputs": [],
   "source": [
    "# train model k=1\n",
    "knn1 = KNeighborsClassifier(n_neighbors=1)\n",
    "knn1.fit(train_predictors, train_target)\n",
    "print(\"**** 1-NN model\")\n",
    "print(\"Accuracy score:\", accuracy_score(validation_target, knn1.predict(validation_predictors)))\n",
    "print(\"Precision score:\", precision_score(validation_target, knn1.predict(validation_predictors)))\n",
    "print(\"Recall score:\", recall_score(validation_target, knn1.predict(validation_predictors)))\n",
    "\n",
    "\n",
    "# train model k=3\n",
    "knn3 = KNeighborsClassifier(n_neighbors=3)\n",
    "knn3.fit(train_predictors, train_target)\n",
    "print(\"**** 3-NN model\")\n",
    "print(\"Accuracy score:\", accuracy_score(validation_target, knn3.predict(validation_predictors)))\n",
    "print(\"Precision score:\", precision_score(validation_target, knn3.predict(validation_predictors)))\n",
    "print(\"Recall score:\", recall_score(validation_target, knn3.predict(validation_predictors)))\n",
    "\n",
    "# train model k=5\n",
    "knn5 = KNeighborsClassifier(n_neighbors=5)\n",
    "knn5.fit(train_predictors, train_target)\n",
    "accuracy_score(validation_target, knn5.predict(validation_predictors))\n",
    "print(\"**** 5-NN model\")\n",
    "print(\"Accuracy score:\", accuracy_score(validation_target, knn5.predict(validation_predictors)))\n",
    "print(\"Precision score:\", precision_score(validation_target, knn5.predict(validation_predictors)))\n",
    "print(\"Recall score:\", recall_score(validation_target, knn5.predict(validation_predictors)))"
   ]
  },
  {
   "cell_type": "code",
   "execution_count": null,
   "id": "81198aa5-bc07-449a-8650-cd8128b539f9",
   "metadata": {},
   "outputs": [],
   "source": [
    "score_measure = 'accuracy'\n",
    "k_fold = 10\n",
    "# Start with an initial guess for parameters\n",
    "param_grid = {\n",
    "    'n_neighbors': list(range(1,17,2)),\n",
    "    'metric': ['euclidean', 'cosine']\n",
    "}\n",
    "gridSearch = GridSearchCV(KNeighborsClassifier(), param_grid, cv=k_fold, scoring=score_measure,\n",
    "                          n_jobs=-1)  # n_jobs=-1 will utilize all available CPUs \n",
    "gridSearch.fit(train_predictors, train_target)\n",
    "print(score_measure, 'score: ', gridSearch.best_score_)\n",
    "print('parameters: ', gridSearch.best_params_)\n",
    "\n",
    "bestAccuracyKnn = gridSearch.best_estimator_"
   ]
  },
  {
   "cell_type": "code",
   "execution_count": null,
   "id": "6b7c956e-198c-4035-89df-3826200a19c5",
   "metadata": {},
   "outputs": [],
   "source": [
    "score_measure = 'precision'\n",
    "k_fold = 10\n",
    "# Start with an initial guess for parameters\n",
    "param_grid = {\n",
    "    'n_neighbors': list(range(1,21,2)),\n",
    "    'metric': ['euclidean', 'cosine']\n",
    "}\n",
    "gridSearch = GridSearchCV(KNeighborsClassifier(), param_grid, cv=k_fold, scoring=score_measure,\n",
    "                          n_jobs=-1)  # n_jobs=-1 will utilize all available CPUs \n",
    "gridSearch.fit(train_predictors, train_target)\n",
    "print(score_measure, 'score: ', gridSearch.best_score_)\n",
    "print('parameters: ', gridSearch.best_params_)\n",
    "\n",
    "bestPrecisionKnn = gridSearch.best_estimator_"
   ]
  },
  {
   "cell_type": "code",
   "execution_count": null,
   "id": "b0884c01-bcd0-4271-92e3-c2c409e685a6",
   "metadata": {},
   "outputs": [],
   "source": [
    "score_measure = 'recall'\n",
    "k_fold = 10\n",
    "# Start with an initial guess for parameters\n",
    "param_grid = {\n",
    "    'n_neighbors': list(range(1,21,2)),\n",
    "    'metric': ['euclidean', 'cosine']    \n",
    "}\n",
    "gridSearch = GridSearchCV(KNeighborsClassifier(), param_grid, cv=k_fold, scoring=score_measure,\n",
    "                          n_jobs=-1)  # n_jobs=-1 will utilize all available CPUs \n",
    "gridSearch.fit(train_predictors, train_target)\n",
    "print(score_measure, 'score: ', gridSearch.best_score_)\n",
    "print('parameters: ', gridSearch.best_params_)\n",
    "\n",
    "\n",
    "bestRecallKnn = gridSearch.best_estimator_"
   ]
  },
  {
   "cell_type": "code",
   "execution_count": null,
   "id": "9be8662a-15aa-413a-ad6f-74532492508b",
   "metadata": {},
   "outputs": [],
   "source": []
  },
  {
   "cell_type": "markdown",
   "id": "6d6f6283",
   "metadata": {
    "tags": []
   },
   "source": [
    "### Decision Tree Classifier"
   ]
  },
  {
   "cell_type": "code",
   "execution_count": null,
   "id": "2a0cd4c9",
   "metadata": {},
   "outputs": [],
   "source": [
    "from sklearn.tree import DecisionTreeClassifier\n",
    "dtree=DecisionTreeClassifier(random_state=1)"
   ]
  },
  {
   "cell_type": "code",
   "execution_count": null,
   "id": "e195d6a5",
   "metadata": {},
   "outputs": [],
   "source": [
    "target = 'INCOME'\n",
    "predictors = ['AGE','EDUCATION','EDUCATION_NUM','MARITAL_STATUS','OCCUPATION','RELATIONSHIP','RACE','SEX','CAPITAL_GAIN','CAPITAL_LOSS','HOURS_PER_WEEK','NATIVE_COUNTRY']\n",
    "X = final_df[predictors]\n",
    "y = final_df[target]"
   ]
  },
  {
   "cell_type": "markdown",
   "id": "d871214c-836c-4bb4-9321-f8a5bb186309",
   "metadata": {},
   "source": [
    "Fitting the model"
   ]
  },
  {
   "cell_type": "code",
   "execution_count": null,
   "id": "0b3b31f3-ccbe-46a7-99c9-3e2482b12f64",
   "metadata": {},
   "outputs": [],
   "source": [
    "dtree.fit(train_predictors, train_target)\n",
    "dtree_prediction_output = dtree.predict(validation_predictors)\n",
    "dtree_prediction_output[:100]"
   ]
  },
  {
   "cell_type": "code",
   "execution_count": null,
   "id": "68232dec-52df-494b-9d06-adc92cabe5d2",
   "metadata": {},
   "outputs": [],
   "source": [
    "unique, counts = np.unique(dtree_prediction_output, return_counts=True)\n",
    "dict(zip(unique, counts))"
   ]
  },
  {
   "cell_type": "markdown",
   "id": "39163635-5c05-4cf3-a43b-47c5d772108c",
   "metadata": {},
   "source": [
    "The above output means that we found 8142 of the 14832 observations in the validation set to be likely to have income more than 50K."
   ]
  },
  {
   "cell_type": "code",
   "execution_count": null,
   "id": "535ed65f-62c3-4e00-bf0a-c66cfec9aae0",
   "metadata": {},
   "outputs": [],
   "source": [
    "confusion = confusion_matrix(validation_target, dtree_prediction_output)"
   ]
  },
  {
   "cell_type": "code",
   "execution_count": null,
   "id": "9b517c33-20a7-47ac-b875-b161527c348c",
   "metadata": {},
   "outputs": [],
   "source": [
    "confusion"
   ]
  },
  {
   "cell_type": "markdown",
   "id": "4f5817ce-07d5-45ae-84ae-1bcfac8c903f",
   "metadata": {},
   "source": [
    "**TRUE POSITIVE:** Adults whose salary>50K and model actually predicted as salary>50K$ ie 7051\n",
    "\n",
    "**TRUE NEGATIVE:** Adults whose salary>50K but model not predicted as salary>50K$ ie 6425\n",
    "\n",
    "**FALSE POSITIVE:** Adults whose salary is not greater than 50K and model actually predicted as salary>50K$ ie 1091\n",
    "\n",
    "**FALSE NEGATIVE:** Adults whose salary>50K and model actually predicted as not-greater than 50k$ ie 265"
   ]
  },
  {
   "cell_type": "code",
   "execution_count": null,
   "id": "5eeb6bd2-ccae-4bdd-a7bd-8bd5eaf51ba9",
   "metadata": {},
   "outputs": [],
   "source": [
    "print('Accuracy score:\\n', accuracy_score(validation_target, dtree_prediction_output))"
   ]
  },
  {
   "cell_type": "code",
   "execution_count": null,
   "id": "ab5dbc45-93f9-4722-bd4f-19707bb84958",
   "metadata": {},
   "outputs": [],
   "source": [
    "print('Precision score:\\n', precision_score(validation_target, dtree_prediction_output))"
   ]
  },
  {
   "cell_type": "code",
   "execution_count": null,
   "id": "a5cda690-f716-4650-84b0-ca902daf97ea",
   "metadata": {},
   "outputs": [],
   "source": [
    "print('Recall score:\\n', recall_score(validation_target, dtree_prediction_output))"
   ]
  },
  {
   "cell_type": "code",
   "execution_count": null,
   "id": "3ce2fcc9-99ee-4201-a759-e4a91ef9b3ed",
   "metadata": {},
   "outputs": [],
   "source": [
    "print('F1 score:\\n', f1_score(validation_target, dtree_prediction_output))"
   ]
  },
  {
   "cell_type": "markdown",
   "id": "4d886ed8-067f-4bfb-a20f-0ee1e5b8c620",
   "metadata": {},
   "source": [
    "### Visualizing a Decision Tree As A Plot"
   ]
  },
  {
   "cell_type": "code",
   "execution_count": null,
   "id": "59d227be-27f5-4d9b-aee3-5849f6189425",
   "metadata": {},
   "outputs": [],
   "source": [
    "fig = plt.figure(figsize=(60,30), dpi=300)\n",
    "_ = plot_tree(dtree, \n",
    "                feature_names=adult_df.columns,  \n",
    "                class_names=['<=50K', '>50K'],\n",
    "                filled=True,\n",
    "                fontsize=8\n",
    "             )"
   ]
  },
  {
   "cell_type": "code",
   "execution_count": null,
   "id": "e3cf37be-b5b9-473f-831f-36661ebc9578",
   "metadata": {},
   "outputs": [],
   "source": [
    "from sklearn.tree import export_text\n",
    "\n",
    "text_representation = export_text(dtree)\n",
    "\n",
    "print(text_representation)"
   ]
  },
  {
   "cell_type": "code",
   "execution_count": null,
   "id": "2f265ff2-de83-4fcc-917f-b987d394af3d",
   "metadata": {},
   "outputs": [],
   "source": [
    "print(f\"Accuracy=\", accuracy_score(train_target, dtree.predict(train_predictors)))\n",
    "print(f\"Precision=\", precision_score(train_target, dtree.predict(train_predictors)))\n",
    "print(f\"Recall=\", recall_score(train_target, dtree.predict(train_predictors)))\n",
    "print(f\"f1=\", f1_score(train_target, dtree.predict(train_predictors)))"
   ]
  },
  {
   "cell_type": "code",
   "execution_count": null,
   "id": "509cd41e-bd35-424f-8fd0-073875ad4fa3",
   "metadata": {},
   "outputs": [],
   "source": [
    "print(f\"Accuracy=\", accuracy_score(validation_target, dtree.predict(validation_predictors)))\n",
    "print(f\"Precision=\", precision_score(validation_target, dtree.predict(validation_predictors)))\n",
    "print(f\"Recall=\", recall_score(validation_target, dtree.predict(validation_predictors)))      \n",
    "print(f\"f1=\", f1_score(validation_target, dtree.predict(validation_predictors)))"
   ]
  },
  {
   "cell_type": "code",
   "execution_count": null,
   "id": "ad750a1a-2355-4199-90c8-fc0a5de30071",
   "metadata": {},
   "outputs": [],
   "source": [
    "print(classification_report(validation_target, dtree.predict(validation_predictors), target_names=['<=50K', '>50K']))"
   ]
  },
  {
   "cell_type": "markdown",
   "id": "609120e6-154d-401f-a3bc-140fbb7c0181",
   "metadata": {},
   "source": [
    "## Hyperparameter Tuning Decision Tree\n"
   ]
  },
  {
   "cell_type": "markdown",
   "id": "2f6e3bb1-4fdd-4dcb-aed9-bff1227fcafc",
   "metadata": {},
   "source": [
    "Here we are tuning a decision tree model, where we are testing the parameter valuessuch as 'max_depth','min_samples_split','min_impurity_decrease'.\n"
   ]
  },
  {
   "cell_type": "code",
   "execution_count": null,
   "id": "97f67d19-fb21-4db5-9a54-c5b1f2ade858",
   "metadata": {},
   "outputs": [],
   "source": [
    "score_measure = 'precision'\n",
    "k_fold = 10\n",
    "# Start with an initial guess for parameters\n",
    "param_grid = {\n",
    "    'max_depth': [2, 5, 10, 20, 30, 40], \n",
    "    'min_samples_split': [2, 5, 10, 20, 40, 60, 80, 100], \n",
    "    'min_impurity_decrease': [0, 0.0005, 0.001, 0.005, 0.01], \n",
    "}\n",
    "gridSearch = GridSearchCV(DecisionTreeClassifier(random_state=1), param_grid, cv=k_fold, scoring=score_measure,\n",
    "                          n_jobs=-1)  # n_jobs=-1 will utilize all available CPUs \n",
    "gridSearch.fit(train_predictors, train_target)\n",
    "print(score_measure, 'score: ', gridSearch.best_score_)\n",
    "print('parameters: ', gridSearch.best_params_)\n",
    "\n",
    "bestPrecisionTree = gridSearch.best_estimator_\n"
   ]
  },
  {
   "cell_type": "code",
   "execution_count": null,
   "id": "8c000c32-eda6-4a9e-801f-e447866fd612",
   "metadata": {},
   "outputs": [],
   "source": [
    "score_measure = 'recall'\n",
    "k_fold = 10\n",
    "# Start with an initial guess for parameters\n",
    "param_grid = {\n",
    "    'max_depth': [2, 5, 10, 20, 30, 40], \n",
    "    'min_samples_split': [2, 5, 10, 20, 40, 60, 80, 100], \n",
    "    'min_impurity_decrease': [0, 0.0005, 0.001, 0.005, 0.01], \n",
    "}\n",
    "gridSearch = GridSearchCV(DecisionTreeClassifier(random_state=1), param_grid, cv=k_fold, scoring=score_measure,\n",
    "                          n_jobs=-1)  # n_jobs=-1 will utilize all available CPUs \n",
    "gridSearch.fit(train_predictors, train_target)\n",
    "print(score_measure, 'score: ', gridSearch.best_score_)\n",
    "print('parameters: ', gridSearch.best_params_)\n",
    "\n",
    "bestRecallTree = gridSearch.best_estimator_"
   ]
  },
  {
   "cell_type": "code",
   "execution_count": null,
   "id": "abdf6627-32cb-4d78-84f4-807c7f8a8203",
   "metadata": {},
   "outputs": [],
   "source": [
    "score_measure = 'accuracy'\n",
    "k_fold = 10\n",
    "# Start with an initial guess for parameters\n",
    "param_grid = {\n",
    "    'max_depth': [2, 5, 10, 20, 30, 40], \n",
    "    'min_samples_split': [2, 5, 10, 20, 40, 60, 80, 100], \n",
    "    'min_impurity_decrease': [0, 0.0005, 0.001, 0.005, 0.01], \n",
    "}\n",
    "gridSearch = GridSearchCV(DecisionTreeClassifier(random_state=1), param_grid, cv=k_fold, scoring=score_measure,\n",
    "                          n_jobs=-1)  # n_jobs=-1 will utilize all available CPUs \n",
    "gridSearch.fit(train_predictors, train_target)\n",
    "print(score_measure, 'score: ', gridSearch.best_score_)\n",
    "print('parameters: ', gridSearch.best_params_)\n",
    "\n",
    "bestAccuracyTree = gridSearch.best_estimator_"
   ]
  },
  {
   "cell_type": "code",
   "execution_count": null,
   "id": "0d8b270c-5383-41ef-acc2-b34f8e0a7aba",
   "metadata": {},
   "outputs": [],
   "source": [
    "print(\"*****************\")\n",
    "print(\"Best Accuracy Tree\")\n",
    "print(classification_report(validation_target, bestAccuracyTree.predict(validation_predictors)))\n",
    "print(\"*****************\")\n",
    "print(\"Best Recall Tree\")\n",
    "print(classification_report(validation_target, bestPrecisionTree.predict(validation_predictors)))\n",
    "print(\"*****************\")\n",
    "print(\"Best Recall Tree\")\n",
    "print(classification_report(validation_target, bestRecallTree.predict(validation_predictors)))"
   ]
  },
  {
   "cell_type": "code",
   "execution_count": null,
   "id": "4c273325-fc9d-4a18-a50a-beb06d51a165",
   "metadata": {},
   "outputs": [],
   "source": [
    "#plotDecisionTree(bestAccuracyTree, feature_names=train_X.columns)\n",
    "\n",
    "fig = plt.figure(figsize=(60,30), dpi=180)\n",
    "_ = plot_tree(bestAccuracyTree, \n",
    "                feature_names=adult_df.columns,  \n",
    "                class_names=['<=50K', '>50K'],\n",
    "                filled=True,\n",
    "                fontsize=8\n",
    "             )"
   ]
  },
  {
   "cell_type": "code",
   "execution_count": null,
   "id": "ea5b6d5d-2a83-4cac-8f45-93c39b3fcbf0",
   "metadata": {},
   "outputs": [],
   "source": []
  },
  {
   "cell_type": "code",
   "execution_count": null,
   "id": "eed465ac-2628-46f8-94f7-e847880fcd4f",
   "metadata": {},
   "outputs": [],
   "source": []
  },
  {
   "cell_type": "code",
   "execution_count": null,
   "id": "ea7b41be-e183-47b4-8499-d9d1806379ed",
   "metadata": {},
   "outputs": [],
   "source": []
  },
  {
   "cell_type": "code",
   "execution_count": null,
   "id": "02bf9aa4-50f7-4af0-bd96-94a2b91013b8",
   "metadata": {},
   "outputs": [],
   "source": []
  },
  {
   "cell_type": "markdown",
   "id": "3b4e2ee6-4142-45b5-a945-5f66b91bc5c1",
   "metadata": {},
   "source": [
    "**Based on above 2 models (KNN and Decision Tree), Decision Tree Outperformed KNN by considering the following metrics -** \n",
    "\n",
    "**1.Accuracy**\n",
    "\n",
    "    a.KNN - 85%\n",
    "    b.Decision Tree - 90.85% \n",
    "    \n",
    "**Note: Accuracy of KNN model is 85% ( TP+TN=11837 and TP+TN+FP+FN=14832), which means KNN predicted 11837 test data points correctly out of all 14832 data points.**\n",
    "\n",
    "**Accuracy of Decision Tree model is 90.85% ( TP+TN=13476 and TP+TN+FP+FN=14832), which means Decision Tree predicted 13476 test data points correctly out of all 14832 data points.**\n",
    "\n",
    "**2.Recall**\n",
    "\n",
    "    a.KNN - 85.96%\n",
    "    b.Decision Tree - 86.6%\n",
    "\n",
    "**Note: Decision Tree predicted (86.6%-85.96%) = 0.64% better than KNN model, as it is able to clearly predict the salary of adults having greater than 50K$**\n",
    "\n",
    "**3.Precision**\n",
    "\n",
    "    a.KNN - 76.17%\n",
    "    b.Decision Tree -86.37%\n",
    "\n",
    "**Note: When Decision Tree predicted salary greater than 50K$, Dtree is correct 86.37% of the time, where as KNN is correct only 76.17% time.**\n",
    "\n",
    "**4.F1 score**\n",
    "\n",
    "    a.KNN - 86%\n",
    "    b.Decision Tree - 91.22%\n",
    "    \n",
    "    \n",
    "**Based on the above metrics described, we concluded that Decision Tree model fits better than KNN model to the adult.csv data set.**"
   ]
  }
 ],
 "metadata": {
  "kernelspec": {
   "display_name": "Python 3 (ipykernel)",
   "language": "python",
   "name": "python3"
  },
  "language_info": {
   "codemirror_mode": {
    "name": "ipython",
    "version": 3
   },
   "file_extension": ".py",
   "mimetype": "text/x-python",
   "name": "python",
   "nbconvert_exporter": "python",
   "pygments_lexer": "ipython3",
   "version": "3.9.12"
  }
 },
 "nbformat": 4,
 "nbformat_minor": 5
}
